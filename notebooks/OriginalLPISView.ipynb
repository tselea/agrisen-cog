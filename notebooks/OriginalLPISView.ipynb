{
 "cells": [
  {
   "cell_type": "markdown",
   "id": "71ec7f79-8f6e-4d34-a1ff-59c797b29acb",
   "metadata": {},
   "source": [
    "# Original LPIS View\n",
    "\n",
    "This Jupyter notebook is designed to read Land Parcel Identification System (LPIS) geopackage files for various areas of interest (AOIs) across different years. The goal is to provide insights into the spatial distribution and temporal changes of land parcels within these regions.\n",
    "\n",
    "## Geopackages Files\n",
    "\n",
    "The notebook expects geopackage files to be organized in a specific directory structure, with each AOI having its dedicated folder containing geopackages for different years. These files are processed to extract and summarize key information, helping in the analysis of land parcel dynamics over time.\n"
   ]
  },
  {
   "cell_type": "code",
   "execution_count": 10,
   "id": "f2a0b4e4-2cce-4102-b234-7b2cae4f1a78",
   "metadata": {},
   "outputs": [],
   "source": [
    "from pathlib import Path\n",
    "import geopandas as gpd"
   ]
  },
  {
   "cell_type": "markdown",
   "id": "d5d04ccf-1274-43e0-874c-1110c0774bdc",
   "metadata": {},
   "source": [
    "## Geopackages Files"
   ]
  },
  {
   "cell_type": "code",
   "execution_count": 8,
   "id": "7788a8e0-11f6-4611-8655-677223949532",
   "metadata": {},
   "outputs": [],
   "source": [
    "local_path_dir = 'AgriSen-COG/intermediate_outputs/output1_2_lpis_gpkg'"
   ]
  },
  {
   "cell_type": "code",
   "execution_count": 9,
   "id": "423dd063-2f09-4872-83f1-847220ac9d0e",
   "metadata": {},
   "outputs": [],
   "source": [
    "local_path = Path(local_path_dir)"
   ]
  },
  {
   "cell_type": "code",
   "execution_count": 7,
   "id": "369a1e87-ecb3-4019-839c-b2f669a7b20a",
   "metadata": {},
   "outputs": [],
   "source": [
    "aois = ['Austria', 'Belgium', 'Catalonia','Denmark', 'Netherlands']\n",
    "years = [2019,2020]"
   ]
  },
  {
   "cell_type": "code",
   "execution_count": 12,
   "id": "11d47bb8-d27c-4d70-aad8-cb917e66b0a5",
   "metadata": {},
   "outputs": [
    {
     "name": "stdout",
     "output_type": "stream",
     "text": [
      "Austria 2019 has 2529896 rows.\n",
      "Austria 2020 has 2614636 rows.\n",
      "Belgium 2019 has 521133 rows.\n",
      "Belgium 2020 has 525592 rows.\n",
      "Catalonia 2019 has 644376 rows.\n",
      "Catalonia 2020 has 639444 rows.\n",
      "Denmark 2019 has 587473 rows.\n",
      "Denmark 2020 has 583936 rows.\n",
      "Netherlands 2019 has 819146 rows.\n",
      "Netherlands 2020 has 773139 rows.\n"
     ]
    }
   ],
   "source": [
    "for aoi in aois:\n",
    "    for year in years:\n",
    "        file_name = local_path / aoi / f'{aoi}{year}.gpkg'\n",
    "        df_gpd = gpd.read_file(file_name)\n",
    "        print(f'{aoi} {year} has {df_gpd.shape[0]} rows.')"
   ]
  },
  {
   "cell_type": "code",
   "execution_count": null,
   "id": "0f74b8e8-30a5-4df4-868a-4c513141a09e",
   "metadata": {},
   "outputs": [],
   "source": []
  }
 ],
 "metadata": {
  "kernelspec": {
   "display_name": "Python 3 (ipykernel)",
   "language": "python",
   "name": "python3"
  },
  "language_info": {
   "codemirror_mode": {
    "name": "ipython",
    "version": 3
   },
   "file_extension": ".py",
   "mimetype": "text/x-python",
   "name": "python",
   "nbconvert_exporter": "python",
   "pygments_lexer": "ipython3",
   "version": "3.8.13"
  }
 },
 "nbformat": 4,
 "nbformat_minor": 5
}
